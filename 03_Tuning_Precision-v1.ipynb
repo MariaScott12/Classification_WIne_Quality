{
 "cells": [
  {
   "cell_type": "markdown",
   "metadata": {},
   "source": [
    "# Notebook 03: Modeling"
   ]
  },
  {
   "cell_type": "markdown",
   "metadata": {},
   "source": [
    "\n",
    "Need to install this first https://anaconda.org/conda-forge/imbalanced-learn"
   ]
  },
  {
   "cell_type": "markdown",
   "metadata": {},
   "source": [
    "### Import libraries"
   ]
  },
  {
   "cell_type": "code",
   "execution_count": 1,
   "metadata": {},
   "outputs": [
    {
     "name": "stderr",
     "output_type": "stream",
     "text": [
      "Using TensorFlow backend.\n",
      "/opt/miniconda3/envs/metis/lib/python3.7/site-packages/tensorflow/python/framework/dtypes.py:526: FutureWarning: Passing (type, 1) or '1type' as a synonym of type is deprecated; in a future version of numpy, it will be understood as (type, (1,)) / '(1,)type'.\n",
      "  _np_qint8 = np.dtype([(\"qint8\", np.int8, 1)])\n",
      "/opt/miniconda3/envs/metis/lib/python3.7/site-packages/tensorflow/python/framework/dtypes.py:527: FutureWarning: Passing (type, 1) or '1type' as a synonym of type is deprecated; in a future version of numpy, it will be understood as (type, (1,)) / '(1,)type'.\n",
      "  _np_quint8 = np.dtype([(\"quint8\", np.uint8, 1)])\n",
      "/opt/miniconda3/envs/metis/lib/python3.7/site-packages/tensorflow/python/framework/dtypes.py:528: FutureWarning: Passing (type, 1) or '1type' as a synonym of type is deprecated; in a future version of numpy, it will be understood as (type, (1,)) / '(1,)type'.\n",
      "  _np_qint16 = np.dtype([(\"qint16\", np.int16, 1)])\n",
      "/opt/miniconda3/envs/metis/lib/python3.7/site-packages/tensorflow/python/framework/dtypes.py:529: FutureWarning: Passing (type, 1) or '1type' as a synonym of type is deprecated; in a future version of numpy, it will be understood as (type, (1,)) / '(1,)type'.\n",
      "  _np_quint16 = np.dtype([(\"quint16\", np.uint16, 1)])\n",
      "/opt/miniconda3/envs/metis/lib/python3.7/site-packages/tensorflow/python/framework/dtypes.py:530: FutureWarning: Passing (type, 1) or '1type' as a synonym of type is deprecated; in a future version of numpy, it will be understood as (type, (1,)) / '(1,)type'.\n",
      "  _np_qint32 = np.dtype([(\"qint32\", np.int32, 1)])\n",
      "/opt/miniconda3/envs/metis/lib/python3.7/site-packages/tensorflow/python/framework/dtypes.py:535: FutureWarning: Passing (type, 1) or '1type' as a synonym of type is deprecated; in a future version of numpy, it will be understood as (type, (1,)) / '(1,)type'.\n",
      "  np_resource = np.dtype([(\"resource\", np.ubyte, 1)])\n"
     ]
    }
   ],
   "source": [
    "# Standard libraries\n",
    "import pickle\n",
    "import pandas as pd\n",
    "import numpy as np\n",
    "import seaborn as sns\n",
    "import matplotlib.pyplot as plt\n",
    "\n",
    "# library to handle imbalanced classes\n",
    "from imblearn.over_sampling import RandomOverSampler\n",
    "from imblearn.pipeline import Pipeline as imbPipeline\n",
    "\n",
    "# scikit items\n",
    "from sklearn.preprocessing import StandardScaler\n",
    "from sklearn.model_selection import (train_test_split, learning_curve, StratifiedKFold,\n",
    "                                    cross_validate, cross_val_score, GridSearchCV)\n",
    "from sklearn.metrics import (accuracy_score, recall_score, confusion_matrix, roc_curve,\n",
    "                             auc, make_scorer, precision_score)\n",
    "from sklearn.linear_model import LogisticRegression\n",
    "from sklearn.neighbors import KNeighborsClassifier\n",
    "from sklearn.ensemble import RandomForestClassifier\n",
    "from sklearn.naive_bayes import BernoulliNB, MultinomialNB, GaussianNB\n",
    "from sklearn.svm import SVC\n",
    "\n",
    "#Remove deprecation warnings\n",
    "import warnings\n",
    "warnings.simplefilter('ignore', category = DeprecationWarning)"
   ]
  },
  {
   "cell_type": "markdown",
   "metadata": {},
   "source": [
    "### Import pickled dataframe"
   ]
  },
  {
   "cell_type": "code",
   "execution_count": 2,
   "metadata": {},
   "outputs": [],
   "source": [
    "#recall that cw stands for combined wine\n",
    "with open('./combo_wines_cleaned.pickle', 'rb') as read_file:\n",
    "    cwraw = pickle.load(read_file)"
   ]
  },
  {
   "cell_type": "code",
   "execution_count": 3,
   "metadata": {},
   "outputs": [
    {
     "data": {
      "text/html": [
       "<div>\n",
       "<style scoped>\n",
       "    .dataframe tbody tr th:only-of-type {\n",
       "        vertical-align: middle;\n",
       "    }\n",
       "\n",
       "    .dataframe tbody tr th {\n",
       "        vertical-align: top;\n",
       "    }\n",
       "\n",
       "    .dataframe thead th {\n",
       "        text-align: right;\n",
       "    }\n",
       "</style>\n",
       "<table border=\"1\" class=\"dataframe\">\n",
       "  <thead>\n",
       "    <tr style=\"text-align: right;\">\n",
       "      <th></th>\n",
       "      <th>fixed acidity</th>\n",
       "      <th>volatile acidity</th>\n",
       "      <th>citric acid</th>\n",
       "      <th>residual sugar</th>\n",
       "      <th>chlorides</th>\n",
       "      <th>free sulfur dioxide</th>\n",
       "      <th>total sulfur dioxide</th>\n",
       "      <th>density</th>\n",
       "      <th>pH</th>\n",
       "      <th>sulphates</th>\n",
       "      <th>alcohol</th>\n",
       "      <th>quality</th>\n",
       "      <th>redness</th>\n",
       "      <th>class</th>\n",
       "    </tr>\n",
       "    <tr>\n",
       "      <th>index</th>\n",
       "      <th></th>\n",
       "      <th></th>\n",
       "      <th></th>\n",
       "      <th></th>\n",
       "      <th></th>\n",
       "      <th></th>\n",
       "      <th></th>\n",
       "      <th></th>\n",
       "      <th></th>\n",
       "      <th></th>\n",
       "      <th></th>\n",
       "      <th></th>\n",
       "      <th></th>\n",
       "      <th></th>\n",
       "    </tr>\n",
       "  </thead>\n",
       "  <tbody>\n",
       "    <tr>\n",
       "      <th>0</th>\n",
       "      <td>7.4</td>\n",
       "      <td>0.70</td>\n",
       "      <td>0.0</td>\n",
       "      <td>1.9</td>\n",
       "      <td>0.076</td>\n",
       "      <td>11.0</td>\n",
       "      <td>34.0</td>\n",
       "      <td>0.9978</td>\n",
       "      <td>3.51</td>\n",
       "      <td>0.56</td>\n",
       "      <td>9.4</td>\n",
       "      <td>5</td>\n",
       "      <td>1</td>\n",
       "      <td>0</td>\n",
       "    </tr>\n",
       "    <tr>\n",
       "      <th>1</th>\n",
       "      <td>7.8</td>\n",
       "      <td>0.88</td>\n",
       "      <td>0.0</td>\n",
       "      <td>2.6</td>\n",
       "      <td>0.098</td>\n",
       "      <td>25.0</td>\n",
       "      <td>67.0</td>\n",
       "      <td>0.9968</td>\n",
       "      <td>3.20</td>\n",
       "      <td>0.68</td>\n",
       "      <td>9.8</td>\n",
       "      <td>5</td>\n",
       "      <td>1</td>\n",
       "      <td>0</td>\n",
       "    </tr>\n",
       "  </tbody>\n",
       "</table>\n",
       "</div>"
      ],
      "text/plain": [
       "       fixed acidity  volatile acidity  citric acid  residual sugar  \\\n",
       "index                                                                 \n",
       "0                7.4              0.70          0.0             1.9   \n",
       "1                7.8              0.88          0.0             2.6   \n",
       "\n",
       "       chlorides  free sulfur dioxide  total sulfur dioxide  density    pH  \\\n",
       "index                                                                        \n",
       "0          0.076                 11.0                  34.0   0.9978  3.51   \n",
       "1          0.098                 25.0                  67.0   0.9968  3.20   \n",
       "\n",
       "       sulphates  alcohol  quality  redness  class  \n",
       "index                                               \n",
       "0           0.56      9.4        5        1      0  \n",
       "1           0.68      9.8        5        1      0  "
      ]
     },
     "execution_count": 3,
     "metadata": {},
     "output_type": "execute_result"
    }
   ],
   "source": [
    "cwraw.head(2)"
   ]
  },
  {
   "cell_type": "code",
   "execution_count": 4,
   "metadata": {},
   "outputs": [
    {
     "data": {
      "text/html": [
       "<div>\n",
       "<style scoped>\n",
       "    .dataframe tbody tr th:only-of-type {\n",
       "        vertical-align: middle;\n",
       "    }\n",
       "\n",
       "    .dataframe tbody tr th {\n",
       "        vertical-align: top;\n",
       "    }\n",
       "\n",
       "    .dataframe thead th {\n",
       "        text-align: right;\n",
       "    }\n",
       "</style>\n",
       "<table border=\"1\" class=\"dataframe\">\n",
       "  <thead>\n",
       "    <tr style=\"text-align: right;\">\n",
       "      <th></th>\n",
       "      <th>fixed acidity</th>\n",
       "      <th>volatile acidity</th>\n",
       "      <th>citric acid</th>\n",
       "      <th>residual sugar</th>\n",
       "      <th>chlorides</th>\n",
       "      <th>free sulfur dioxide</th>\n",
       "      <th>total sulfur dioxide</th>\n",
       "      <th>density</th>\n",
       "      <th>pH</th>\n",
       "      <th>sulphates</th>\n",
       "      <th>alcohol</th>\n",
       "      <th>quality</th>\n",
       "      <th>redness</th>\n",
       "      <th>Class</th>\n",
       "    </tr>\n",
       "    <tr>\n",
       "      <th>index</th>\n",
       "      <th></th>\n",
       "      <th></th>\n",
       "      <th></th>\n",
       "      <th></th>\n",
       "      <th></th>\n",
       "      <th></th>\n",
       "      <th></th>\n",
       "      <th></th>\n",
       "      <th></th>\n",
       "      <th></th>\n",
       "      <th></th>\n",
       "      <th></th>\n",
       "      <th></th>\n",
       "      <th></th>\n",
       "    </tr>\n",
       "  </thead>\n",
       "  <tbody>\n",
       "    <tr>\n",
       "      <th>0</th>\n",
       "      <td>7.4</td>\n",
       "      <td>0.70</td>\n",
       "      <td>0.00</td>\n",
       "      <td>1.9</td>\n",
       "      <td>0.076</td>\n",
       "      <td>11.0</td>\n",
       "      <td>34.0</td>\n",
       "      <td>0.9978</td>\n",
       "      <td>3.51</td>\n",
       "      <td>0.56</td>\n",
       "      <td>9.4</td>\n",
       "      <td>5</td>\n",
       "      <td>1</td>\n",
       "      <td>0</td>\n",
       "    </tr>\n",
       "    <tr>\n",
       "      <th>1</th>\n",
       "      <td>7.8</td>\n",
       "      <td>0.88</td>\n",
       "      <td>0.00</td>\n",
       "      <td>2.6</td>\n",
       "      <td>0.098</td>\n",
       "      <td>25.0</td>\n",
       "      <td>67.0</td>\n",
       "      <td>0.9968</td>\n",
       "      <td>3.20</td>\n",
       "      <td>0.68</td>\n",
       "      <td>9.8</td>\n",
       "      <td>5</td>\n",
       "      <td>1</td>\n",
       "      <td>0</td>\n",
       "    </tr>\n",
       "    <tr>\n",
       "      <th>2</th>\n",
       "      <td>7.8</td>\n",
       "      <td>0.76</td>\n",
       "      <td>0.04</td>\n",
       "      <td>2.3</td>\n",
       "      <td>0.092</td>\n",
       "      <td>15.0</td>\n",
       "      <td>54.0</td>\n",
       "      <td>0.9970</td>\n",
       "      <td>3.26</td>\n",
       "      <td>0.65</td>\n",
       "      <td>9.8</td>\n",
       "      <td>5</td>\n",
       "      <td>1</td>\n",
       "      <td>0</td>\n",
       "    </tr>\n",
       "    <tr>\n",
       "      <th>3</th>\n",
       "      <td>11.2</td>\n",
       "      <td>0.28</td>\n",
       "      <td>0.56</td>\n",
       "      <td>1.9</td>\n",
       "      <td>0.075</td>\n",
       "      <td>17.0</td>\n",
       "      <td>60.0</td>\n",
       "      <td>0.9980</td>\n",
       "      <td>3.16</td>\n",
       "      <td>0.58</td>\n",
       "      <td>9.8</td>\n",
       "      <td>6</td>\n",
       "      <td>1</td>\n",
       "      <td>0</td>\n",
       "    </tr>\n",
       "    <tr>\n",
       "      <th>4</th>\n",
       "      <td>7.4</td>\n",
       "      <td>0.70</td>\n",
       "      <td>0.00</td>\n",
       "      <td>1.9</td>\n",
       "      <td>0.076</td>\n",
       "      <td>11.0</td>\n",
       "      <td>34.0</td>\n",
       "      <td>0.9978</td>\n",
       "      <td>3.51</td>\n",
       "      <td>0.56</td>\n",
       "      <td>9.4</td>\n",
       "      <td>5</td>\n",
       "      <td>1</td>\n",
       "      <td>0</td>\n",
       "    </tr>\n",
       "  </tbody>\n",
       "</table>\n",
       "</div>"
      ],
      "text/plain": [
       "       fixed acidity  volatile acidity  citric acid  residual sugar  \\\n",
       "index                                                                 \n",
       "0                7.4              0.70         0.00             1.9   \n",
       "1                7.8              0.88         0.00             2.6   \n",
       "2                7.8              0.76         0.04             2.3   \n",
       "3               11.2              0.28         0.56             1.9   \n",
       "4                7.4              0.70         0.00             1.9   \n",
       "\n",
       "       chlorides  free sulfur dioxide  total sulfur dioxide  density    pH  \\\n",
       "index                                                                        \n",
       "0          0.076                 11.0                  34.0   0.9978  3.51   \n",
       "1          0.098                 25.0                  67.0   0.9968  3.20   \n",
       "2          0.092                 15.0                  54.0   0.9970  3.26   \n",
       "3          0.075                 17.0                  60.0   0.9980  3.16   \n",
       "4          0.076                 11.0                  34.0   0.9978  3.51   \n",
       "\n",
       "       sulphates  alcohol  quality  redness  Class  \n",
       "index                                               \n",
       "0           0.56      9.4        5        1      0  \n",
       "1           0.68      9.8        5        1      0  \n",
       "2           0.65      9.8        5        1      0  \n",
       "3           0.58      9.8        6        1      0  \n",
       "4           0.56      9.4        5        1      0  "
      ]
     },
     "execution_count": 4,
     "metadata": {},
     "output_type": "execute_result"
    }
   ],
   "source": [
    "#rename class to Class to as class is python object\n",
    "cwraw.rename(columns = {'class': 'Class'}, inplace = True)\n",
    "cwraw.head()"
   ]
  },
  {
   "cell_type": "markdown",
   "metadata": {},
   "source": [
    "#### Remove `quality` from dataframe"
   ]
  },
  {
   "cell_type": "code",
   "execution_count": 5,
   "metadata": {},
   "outputs": [],
   "source": [
    "cw = cwraw[['fixed acidity', 'volatile acidity', 'citric acid', 'residual sugar',\n",
    "       'chlorides', 'free sulfur dioxide', 'total sulfur dioxide', 'density',\n",
    "       'pH', 'sulphates', 'alcohol', 'redness', 'Class']]"
   ]
  },
  {
   "cell_type": "code",
   "execution_count": 6,
   "metadata": {},
   "outputs": [
    {
     "data": {
      "text/html": [
       "<div>\n",
       "<style scoped>\n",
       "    .dataframe tbody tr th:only-of-type {\n",
       "        vertical-align: middle;\n",
       "    }\n",
       "\n",
       "    .dataframe tbody tr th {\n",
       "        vertical-align: top;\n",
       "    }\n",
       "\n",
       "    .dataframe thead th {\n",
       "        text-align: right;\n",
       "    }\n",
       "</style>\n",
       "<table border=\"1\" class=\"dataframe\">\n",
       "  <thead>\n",
       "    <tr style=\"text-align: right;\">\n",
       "      <th></th>\n",
       "      <th>fixed acidity</th>\n",
       "      <th>volatile acidity</th>\n",
       "      <th>citric acid</th>\n",
       "      <th>residual sugar</th>\n",
       "      <th>chlorides</th>\n",
       "      <th>free sulfur dioxide</th>\n",
       "      <th>total sulfur dioxide</th>\n",
       "      <th>density</th>\n",
       "      <th>pH</th>\n",
       "      <th>sulphates</th>\n",
       "      <th>alcohol</th>\n",
       "      <th>redness</th>\n",
       "      <th>Class</th>\n",
       "    </tr>\n",
       "    <tr>\n",
       "      <th>index</th>\n",
       "      <th></th>\n",
       "      <th></th>\n",
       "      <th></th>\n",
       "      <th></th>\n",
       "      <th></th>\n",
       "      <th></th>\n",
       "      <th></th>\n",
       "      <th></th>\n",
       "      <th></th>\n",
       "      <th></th>\n",
       "      <th></th>\n",
       "      <th></th>\n",
       "      <th></th>\n",
       "    </tr>\n",
       "  </thead>\n",
       "  <tbody>\n",
       "    <tr>\n",
       "      <th>0</th>\n",
       "      <td>7.4</td>\n",
       "      <td>0.7</td>\n",
       "      <td>0.0</td>\n",
       "      <td>1.9</td>\n",
       "      <td>0.076</td>\n",
       "      <td>11.0</td>\n",
       "      <td>34.0</td>\n",
       "      <td>0.9978</td>\n",
       "      <td>3.51</td>\n",
       "      <td>0.56</td>\n",
       "      <td>9.4</td>\n",
       "      <td>1</td>\n",
       "      <td>0</td>\n",
       "    </tr>\n",
       "  </tbody>\n",
       "</table>\n",
       "</div>"
      ],
      "text/plain": [
       "       fixed acidity  volatile acidity  citric acid  residual sugar  \\\n",
       "index                                                                 \n",
       "0                7.4               0.7          0.0             1.9   \n",
       "\n",
       "       chlorides  free sulfur dioxide  total sulfur dioxide  density    pH  \\\n",
       "index                                                                        \n",
       "0          0.076                 11.0                  34.0   0.9978  3.51   \n",
       "\n",
       "       sulphates  alcohol  redness  Class  \n",
       "index                                      \n",
       "0           0.56      9.4        1      0  "
      ]
     },
     "execution_count": 6,
     "metadata": {},
     "output_type": "execute_result"
    }
   ],
   "source": [
    "cw.head(1)"
   ]
  },
  {
   "cell_type": "markdown",
   "metadata": {},
   "source": [
    "### Define X matrix and y vector"
   ]
  },
  {
   "cell_type": "code",
   "execution_count": 7,
   "metadata": {},
   "outputs": [],
   "source": [
    "X = cw.iloc[:, :-1]\n",
    "y = cw.iloc[:, -1]"
   ]
  },
  {
   "cell_type": "markdown",
   "metadata": {},
   "source": [
    "### Splitting Train / Test Sets (with stratification)"
   ]
  },
  {
   "cell_type": "code",
   "execution_count": 8,
   "metadata": {},
   "outputs": [],
   "source": [
    "X_train, X_test, y_train, y_test = train_test_split( X, y,\n",
    "                                                   test_size=0.20,\n",
    "                                                   stratify=y)"
   ]
  },
  {
   "cell_type": "code",
   "execution_count": 9,
   "metadata": {},
   "outputs": [
    {
     "data": {
      "text/plain": [
       "array([80.35405041, 19.64594959])"
      ]
     },
     "execution_count": 9,
     "metadata": {},
     "output_type": "execute_result"
    }
   ],
   "source": [
    "#Note the class breakdown in y_train\n",
    "(y_train.value_counts(normalize=True)*100).values"
   ]
  },
  {
   "cell_type": "code",
   "execution_count": 10,
   "metadata": {},
   "outputs": [
    {
     "data": {
      "text/plain": [
       "array([80.30769231, 19.69230769])"
      ]
     },
     "execution_count": 10,
     "metadata": {},
     "output_type": "execute_result"
    }
   ],
   "source": [
    "#and the breakdown in y_test...\n",
    "(y_test.value_counts(normalize=True)*100).values"
   ]
  },
  {
   "cell_type": "code",
   "execution_count": 11,
   "metadata": {},
   "outputs": [
    {
     "data": {
      "text/plain": [
       "[array([80.35405041, 19.64594959]), array([80.30769231, 19.69230769])]"
      ]
     },
     "execution_count": 11,
     "metadata": {},
     "output_type": "execute_result"
    }
   ],
   "source": [
    "#List of breakdowns\n",
    "\n",
    "proportion = []\n",
    "for each in [y_train, y_test]:\n",
    "    out = (each.value_counts(normalize=True)*100).values\n",
    "    proportion.append(out)\n",
    "    \n",
    "proportion[0:5]"
   ]
  },
  {
   "cell_type": "code",
   "execution_count": 12,
   "metadata": {},
   "outputs": [
    {
     "data": {
      "text/html": [
       "<div>\n",
       "<style scoped>\n",
       "    .dataframe tbody tr th:only-of-type {\n",
       "        vertical-align: middle;\n",
       "    }\n",
       "\n",
       "    .dataframe tbody tr th {\n",
       "        vertical-align: top;\n",
       "    }\n",
       "\n",
       "    .dataframe thead th {\n",
       "        text-align: right;\n",
       "    }\n",
       "</style>\n",
       "<table border=\"1\" class=\"dataframe\">\n",
       "  <thead>\n",
       "    <tr style=\"text-align: right;\">\n",
       "      <th></th>\n",
       "      <th>Class-0</th>\n",
       "      <th>Class-1</th>\n",
       "    </tr>\n",
       "  </thead>\n",
       "  <tbody>\n",
       "    <tr>\n",
       "      <th>% train</th>\n",
       "      <td>80.354050</td>\n",
       "      <td>19.645950</td>\n",
       "    </tr>\n",
       "    <tr>\n",
       "      <th>% test</th>\n",
       "      <td>80.307692</td>\n",
       "      <td>19.692308</td>\n",
       "    </tr>\n",
       "  </tbody>\n",
       "</table>\n",
       "</div>"
      ],
      "text/plain": [
       "           Class-0    Class-1\n",
       "% train  80.354050  19.645950\n",
       "% test   80.307692  19.692308"
      ]
     },
     "execution_count": 12,
     "metadata": {},
     "output_type": "execute_result"
    }
   ],
   "source": [
    "#Check that the stratification works.  That is, do both sets have same proportion of classes 0&1?\n",
    "\n",
    "types_of_y = [y_train, y_test]\n",
    "proportion = [(each.value_counts(normalize=True)*100).values for each in types_of_y]\n",
    "\n",
    "pd.DataFrame(np.r_[proportion], index=['% train', '% test'],\n",
    "            columns = ['Class-0', 'Class-1'])"
   ]
  },
  {
   "cell_type": "markdown",
   "metadata": {},
   "source": [
    "### Tune performance for several models\n",
    "-Logistic Regression  \n",
    "-Random Forest  \n",
    "-KNN"
   ]
  },
  {
   "cell_type": "code",
   "execution_count": 13,
   "metadata": {},
   "outputs": [],
   "source": [
    "#NOTE: HAVE TO STRATIFY THE k-fold!\n",
    "#use a var to hold the stratified object so that it can be called on subsequent models\n",
    "skf = StratifiedKFold(n_splits=10, random_state=123)"
   ]
  },
  {
   "cell_type": "code",
   "execution_count": 14,
   "metadata": {},
   "outputs": [],
   "source": [
    "#Set up each model w/ imb pipeline to feed GridsearchCV\n",
    "pipe_lr = imbPipeline([\n",
    "                        ('oversample', RandomOverSampler(random_state=0)),\n",
    "                        ('scaling', StandardScaler()),\n",
    "                        ('logreg', LogisticRegression())\n",
    "                        ])\n",
    "pipe_rf = imbPipeline([\n",
    "                        ('oversample', RandomOverSampler(random_state=0)),\n",
    "                        ('RandomForest', RandomForestClassifier())\n",
    "                        ])\n",
    "pipe_knn = imbPipeline([\n",
    "                        ('oversample', RandomOverSampler(random_state=0)), \n",
    "                        ('knn', KNeighborsClassifier())\n",
    "                       ])\n"
   ]
  },
  {
   "cell_type": "code",
   "execution_count": 15,
   "metadata": {},
   "outputs": [],
   "source": [
    "# Grid-Searching parameters\n",
    "\n",
    "param_lr   = {'logreg__penalty'   : ['l1','l2'],\n",
    "              #'logreg__solver'    : ['liblinear','lbfgs'],\n",
    "              'logreg__solver'    : ['liblinear'],\n",
    "              'logreg__max_iter'  : [100, 200, 400],\n",
    "              'logreg__C'         : np.logspace(0, 4, 10)\n",
    "#               'logreg__C'         : [1.0, 2.0, 3.0, 4.0, 10, 15 ]\n",
    "            }\n",
    "\n",
    "        \n",
    "param_rf = {'RandomForest__n_estimators'      : [50, 80, 200, 300],\n",
    "             'RandomForest__max_features'     : ['auto','sqrt','log2'],\n",
    "             'RandomForest__max_depth'        : [2, 3, 4, 5],\n",
    "             'RandomForest__min_samples_split': [2, 3, 4],\n",
    "             'RandomForest__min_samples_leaf' : [1, 2, 4],\n",
    "             'RandomForest__bootstrap'        : [True, False],\n",
    "            }"
   ]
  },
  {
   "cell_type": "code",
   "execution_count": 16,
   "metadata": {},
   "outputs": [],
   "source": [
    "param_knn = {'knn__n_neighbors': [i for i in range(1,25)],\n",
    "#              'knn__weights'  : ['uniform', 'distance']\n",
    "                }\n",
    "\n",
    "scoring = {'REC': make_scorer(recall_score), \n",
    "           'ACC': make_scorer(accuracy_score), \n",
    "           'PREC': make_scorer(precision_score)}"
   ]
  },
  {
   "cell_type": "code",
   "execution_count": 17,
   "metadata": {},
   "outputs": [],
   "source": [
    "# Setup grid search\n",
    "\n",
    "grid_lr = GridSearchCV(pipe_lr,param_grid=param_lr,\n",
    "                       return_train_score=True, \n",
    "                       n_jobs=-1, scoring=scoring,\n",
    "                       verbose=1, \n",
    "                       refit='PREC',\n",
    "                      cv=skf)\n",
    "grid_rf = GridSearchCV(pipe_rf, param_grid=param_rf,\n",
    "                       return_train_score=True,\n",
    "                       refit='PREC',\n",
    "                       verbose=1,\n",
    "                       n_jobs=-1, scoring=scoring,\n",
    "                      cv=skf)"
   ]
  },
  {
   "cell_type": "code",
   "execution_count": 18,
   "metadata": {},
   "outputs": [],
   "source": [
    "grid_knn = GridSearchCV(pipe_knn, param_grid=param_knn,\n",
    "                       return_train_score=True,\n",
    "                       refit='PREC',\n",
    "                       verbose=1,\n",
    "                       n_jobs=-1, scoring=scoring,\n",
    "                      cv=skf)"
   ]
  },
  {
   "cell_type": "code",
   "execution_count": 19,
   "metadata": {},
   "outputs": [
    {
     "name": "stdout",
     "output_type": "stream",
     "text": [
      "Fitting 10 folds for each of 60 candidates, totalling 600 fits\n"
     ]
    },
    {
     "name": "stderr",
     "output_type": "stream",
     "text": [
      "[Parallel(n_jobs=-1)]: Using backend LokyBackend with 12 concurrent workers.\n",
      "[Parallel(n_jobs=-1)]: Done  26 tasks      | elapsed:    4.8s\n",
      "[Parallel(n_jobs=-1)]: Done 176 tasks      | elapsed:    6.9s\n",
      "[Parallel(n_jobs=-1)]: Done 426 tasks      | elapsed:   10.4s\n",
      "[Parallel(n_jobs=-1)]: Done 600 out of 600 | elapsed:   12.6s finished\n",
      "[Parallel(n_jobs=-1)]: Using backend LokyBackend with 12 concurrent workers.\n"
     ]
    },
    {
     "name": "stdout",
     "output_type": "stream",
     "text": [
      "Fitting 10 folds for each of 864 candidates, totalling 8640 fits\n"
     ]
    },
    {
     "name": "stderr",
     "output_type": "stream",
     "text": [
      "[Parallel(n_jobs=-1)]: Done  26 tasks      | elapsed:    2.3s\n",
      "[Parallel(n_jobs=-1)]: Done 176 tasks      | elapsed:   16.3s\n",
      "[Parallel(n_jobs=-1)]: Done 426 tasks      | elapsed:   43.1s\n",
      "[Parallel(n_jobs=-1)]: Done 776 tasks      | elapsed:  1.4min\n",
      "[Parallel(n_jobs=-1)]: Done 1226 tasks      | elapsed:  2.3min\n",
      "[Parallel(n_jobs=-1)]: Done 1776 tasks      | elapsed:  3.5min\n",
      "[Parallel(n_jobs=-1)]: Done 2426 tasks      | elapsed:  5.0min\n",
      "[Parallel(n_jobs=-1)]: Done 3176 tasks      | elapsed:  6.9min\n",
      "[Parallel(n_jobs=-1)]: Done 4026 tasks      | elapsed:  9.3min\n",
      "[Parallel(n_jobs=-1)]: Done 4976 tasks      | elapsed: 11.4min\n",
      "[Parallel(n_jobs=-1)]: Done 6026 tasks      | elapsed: 13.8min\n",
      "[Parallel(n_jobs=-1)]: Done 7176 tasks      | elapsed: 16.8min\n",
      "[Parallel(n_jobs=-1)]: Done 8426 tasks      | elapsed: 20.7min\n",
      "[Parallel(n_jobs=-1)]: Done 8640 out of 8640 | elapsed: 21.4min finished\n"
     ]
    },
    {
     "data": {
      "text/plain": [
       "GridSearchCV(cv=StratifiedKFold(n_splits=10, random_state=123, shuffle=False),\n",
       "             error_score='raise-deprecating',\n",
       "             estimator=Pipeline(memory=None,\n",
       "                                steps=[('oversample',\n",
       "                                        RandomOverSampler(random_state=0,\n",
       "                                                          ratio=None,\n",
       "                                                          return_indices=False,\n",
       "                                                          sampling_strategy='auto')),\n",
       "                                       ('RandomForest',\n",
       "                                        RandomForestClassifier(bootstrap=True,\n",
       "                                                               class_weight=None,\n",
       "                                                               criterion='gini',\n",
       "                                                               max_depth...\n",
       "                         'RandomForest__max_features': ['auto', 'sqrt', 'log2'],\n",
       "                         'RandomForest__min_samples_leaf': [1, 2, 4],\n",
       "                         'RandomForest__min_samples_split': [2, 3, 4],\n",
       "                         'RandomForest__n_estimators': [50, 80, 200, 300]},\n",
       "             pre_dispatch='2*n_jobs', refit='PREC', return_train_score=True,\n",
       "             scoring={'ACC': make_scorer(accuracy_score),\n",
       "                      'PREC': make_scorer(precision_score),\n",
       "                      'REC': make_scorer(recall_score)},\n",
       "             verbose=1)"
      ]
     },
     "execution_count": 19,
     "metadata": {},
     "output_type": "execute_result"
    }
   ],
   "source": [
    "# # Run GRID fit\n",
    "grid_lr.fit(X_train, y_train)\n",
    "grid_rf.fit(X_train, y_train)"
   ]
  },
  {
   "cell_type": "code",
   "execution_count": 20,
   "metadata": {},
   "outputs": [
    {
     "name": "stdout",
     "output_type": "stream",
     "text": [
      "Fitting 10 folds for each of 24 candidates, totalling 240 fits\n"
     ]
    },
    {
     "name": "stderr",
     "output_type": "stream",
     "text": [
      "[Parallel(n_jobs=-1)]: Using backend LokyBackend with 12 concurrent workers.\n",
      "[Parallel(n_jobs=-1)]: Done  26 tasks      | elapsed:    3.4s\n",
      "[Parallel(n_jobs=-1)]: Done 176 tasks      | elapsed:   21.4s\n",
      "[Parallel(n_jobs=-1)]: Done 240 out of 240 | elapsed:   29.1s finished\n"
     ]
    },
    {
     "data": {
      "text/plain": [
       "GridSearchCV(cv=StratifiedKFold(n_splits=10, random_state=123, shuffle=False),\n",
       "             error_score='raise-deprecating',\n",
       "             estimator=Pipeline(memory=None,\n",
       "                                steps=[('oversample',\n",
       "                                        RandomOverSampler(random_state=0,\n",
       "                                                          ratio=None,\n",
       "                                                          return_indices=False,\n",
       "                                                          sampling_strategy='auto')),\n",
       "                                       ('knn',\n",
       "                                        KNeighborsClassifier(algorithm='auto',\n",
       "                                                             leaf_size=30,\n",
       "                                                             metric='minkowski',\n",
       "                                                             metric_params=None,\n",
       "                                                             n_...\n",
       "                                                             n_neighbors=5, p=2,\n",
       "                                                             weights='uniform'))],\n",
       "                                verbose=False),\n",
       "             iid='warn', n_jobs=-1,\n",
       "             param_grid={'knn__n_neighbors': [1, 2, 3, 4, 5, 6, 7, 8, 9, 10, 11,\n",
       "                                              12, 13, 14, 15, 16, 17, 18, 19,\n",
       "                                              20, 21, 22, 23, 24]},\n",
       "             pre_dispatch='2*n_jobs', refit='PREC', return_train_score=True,\n",
       "             scoring={'ACC': make_scorer(accuracy_score),\n",
       "                      'PREC': make_scorer(precision_score),\n",
       "                      'REC': make_scorer(recall_score)},\n",
       "             verbose=1)"
      ]
     },
     "execution_count": 20,
     "metadata": {},
     "output_type": "execute_result"
    }
   ],
   "source": [
    "grid_knn.fit(X_train, y_train)"
   ]
  },
  {
   "cell_type": "code",
   "execution_count": 21,
   "metadata": {},
   "outputs": [
    {
     "data": {
      "text/plain": [
       "dict_keys(['memory', 'steps', 'verbose', 'oversample', 'knn', 'oversample__random_state', 'oversample__ratio', 'oversample__return_indices', 'oversample__sampling_strategy', 'knn__algorithm', 'knn__leaf_size', 'knn__metric', 'knn__metric_params', 'knn__n_jobs', 'knn__n_neighbors', 'knn__p', 'knn__weights'])"
      ]
     },
     "execution_count": 21,
     "metadata": {},
     "output_type": "execute_result"
    }
   ],
   "source": [
    "pipe_knn.get_params().keys()"
   ]
  },
  {
   "cell_type": "code",
   "execution_count": 22,
   "metadata": {},
   "outputs": [],
   "source": [
    "# # Instantiate best Estimator\n",
    "Opt_lr = grid_lr.best_estimator_\n",
    "Opt_rf = grid_rf.best_estimator_\n",
    "Opt_knn = grid_knn.best_estimator_"
   ]
  },
  {
   "cell_type": "code",
   "execution_count": 23,
   "metadata": {},
   "outputs": [
    {
     "name": "stdout",
     "output_type": "stream",
     "text": [
      "Grid Search Result for LogReg\n",
      "best parameters:      {'logreg__C': 7.742636826811269, 'logreg__max_iter': 100, 'logreg__penalty': 'l1', 'logreg__solver': 'liblinear'}\n",
      "best score     : 0.39\n",
      "mean accuracy  : 0.72\n",
      "mean recall    : 0.76\n",
      "mean precision : 0.39\n",
      "Grid Search Result for RandomForest\n",
      "best parameters:      {'RandomForest__bootstrap': False, 'RandomForest__max_depth': 5, 'RandomForest__max_features': 'auto', 'RandomForest__min_samples_leaf': 1, 'RandomForest__min_samples_split': 2, 'RandomForest__n_estimators': 80}\n",
      "best score     : 0.44\n",
      "mean accuracy  : 0.74\n",
      "mean recall    : 0.76\n",
      "mean precision : 0.41\n",
      "Grid Search Result for knn\n",
      "best parameters:      {'knn__n_neighbors': 2}\n",
      "best score     : 0.52\n",
      "mean accuracy  : 0.70\n",
      "mean recall    : 0.67\n",
      "mean precision : 0.37\n"
     ]
    }
   ],
   "source": [
    "# Print results of the best_estimators\n",
    "\n",
    "Opt_models= [grid_lr, grid_rf, grid_knn]\n",
    "model_names = ['LogReg','RandomForest','knn']\n",
    "for i in range(3):\n",
    "    print('Grid Search Result for %s' %(model_names[i]))\n",
    "    print('best parameters:     ', Opt_models[i].best_params_)\n",
    "    print('best score     : %.2f' %Opt_models[i].best_score_)\n",
    "    print('mean accuracy  : %.2f' %Opt_models[i].cv_results_['mean_test_ACC'].mean())\n",
    "    print('mean recall    : %.2f' %Opt_models[i].cv_results_['mean_test_REC'].mean())\n",
    "    print('mean precision : %.2f' %Opt_models[i].cv_results_['mean_test_PREC'].mean())"
   ]
  },
  {
   "cell_type": "code",
   "execution_count": 24,
   "metadata": {},
   "outputs": [],
   "source": [
    "# # Pickle objects\n",
    "with open('./gridsearched_Precision_lr.pkl','wb') as fin:\n",
    "    pickle.dump(grid_lr, fin)\n",
    "with open('./gridsearched_Precision_rf.pkl','wb') as fin:\n",
    "    pickle.dump(grid_rf, fin)\n",
    "with open('./gridsearched_Precision_knn.pkl','wb') as fin:\n",
    "    pickle.dump(grid_knn, fin)"
   ]
  },
  {
   "cell_type": "code",
   "execution_count": 25,
   "metadata": {},
   "outputs": [],
   "source": [
    "# # Pickle objects\n",
    "with open('./opt_Precision_lr.pkl','wb') as fin:\n",
    "    pickle.dump(Opt_lr, fin)\n",
    "with open('./opt_Precision_rf.pkl','wb') as fin:\n",
    "    pickle.dump(Opt_rf, fin)\n",
    "with open('./opt_Precision_knn.pkl','wb') as fin:\n",
    "    pickle.dump(Opt_knn, fin)"
   ]
  },
  {
   "cell_type": "code",
   "execution_count": 26,
   "metadata": {},
   "outputs": [
    {
     "data": {
      "text/plain": [
       "Pipeline(memory=None,\n",
       "         steps=[('oversample',\n",
       "                 RandomOverSampler(random_state=0, ratio=None,\n",
       "                                   return_indices=False,\n",
       "                                   sampling_strategy='auto')),\n",
       "                ('knn',\n",
       "                 KNeighborsClassifier(algorithm='auto', leaf_size=30,\n",
       "                                      metric='minkowski', metric_params=None,\n",
       "                                      n_jobs=None, n_neighbors=2, p=2,\n",
       "                                      weights='uniform'))],\n",
       "         verbose=False)"
      ]
     },
     "execution_count": 26,
     "metadata": {},
     "output_type": "execute_result"
    }
   ],
   "source": [
    "grid_knn.best_estimator_"
   ]
  },
  {
   "cell_type": "code",
   "execution_count": 27,
   "metadata": {},
   "outputs": [
    {
     "data": {
      "text/plain": [
       "{'knn__n_neighbors': 2}"
      ]
     },
     "execution_count": 27,
     "metadata": {},
     "output_type": "execute_result"
    }
   ],
   "source": [
    "grid_knn.best_params_"
   ]
  },
  {
   "cell_type": "code",
   "execution_count": 28,
   "metadata": {},
   "outputs": [
    {
     "data": {
      "text/plain": [
       "{'logreg__C': 7.742636826811269,\n",
       " 'logreg__max_iter': 100,\n",
       " 'logreg__penalty': 'l1',\n",
       " 'logreg__solver': 'liblinear'}"
      ]
     },
     "execution_count": 28,
     "metadata": {},
     "output_type": "execute_result"
    }
   ],
   "source": [
    "grid_lr.best_params_"
   ]
  },
  {
   "cell_type": "code",
   "execution_count": 29,
   "metadata": {},
   "outputs": [
    {
     "data": {
      "text/plain": [
       "{'RandomForest__bootstrap': False,\n",
       " 'RandomForest__max_depth': 5,\n",
       " 'RandomForest__max_features': 'auto',\n",
       " 'RandomForest__min_samples_leaf': 1,\n",
       " 'RandomForest__min_samples_split': 2,\n",
       " 'RandomForest__n_estimators': 80}"
      ]
     },
     "execution_count": 29,
     "metadata": {},
     "output_type": "execute_result"
    }
   ],
   "source": [
    "grid_rf.best_params_"
   ]
  },
  {
   "cell_type": "code",
   "execution_count": 30,
   "metadata": {},
   "outputs": [
    {
     "data": {
      "text/plain": [
       "array([0.75902041, 0.75902041, 0.75902041, 0.75902041, 0.75902041,\n",
       "       0.75902041, 0.75902041, 0.75902041, 0.75902041, 0.75902041,\n",
       "       0.75902041, 0.75902041, 0.75902041, 0.75902041, 0.75902041,\n",
       "       0.75902041, 0.75902041, 0.75902041, 0.75902041, 0.75902041,\n",
       "       0.75902041, 0.75902041, 0.75902041, 0.75902041, 0.75902041,\n",
       "       0.75902041, 0.75902041, 0.75902041, 0.75902041, 0.75902041,\n",
       "       0.75902041, 0.75902041, 0.75902041, 0.75902041, 0.75902041,\n",
       "       0.75902041, 0.75902041, 0.75902041, 0.75902041, 0.75902041,\n",
       "       0.75902041, 0.75902041, 0.75902041, 0.75902041, 0.75902041,\n",
       "       0.75902041, 0.75902041, 0.75902041, 0.75902041, 0.75902041,\n",
       "       0.75902041, 0.75902041, 0.75902041, 0.75902041, 0.75902041,\n",
       "       0.75902041, 0.75902041, 0.75902041, 0.75902041, 0.75902041])"
      ]
     },
     "execution_count": 30,
     "metadata": {},
     "output_type": "execute_result"
    }
   ],
   "source": [
    "grid_lr.cv_results_['mean_test_REC']"
   ]
  },
  {
   "cell_type": "code",
   "execution_count": null,
   "metadata": {},
   "outputs": [],
   "source": []
  }
 ],
 "metadata": {
  "kernelspec": {
   "display_name": "Python [conda env:metis] *",
   "language": "python",
   "name": "conda-env-metis-py"
  },
  "language_info": {
   "codemirror_mode": {
    "name": "ipython",
    "version": 3
   },
   "file_extension": ".py",
   "mimetype": "text/x-python",
   "name": "python",
   "nbconvert_exporter": "python",
   "pygments_lexer": "ipython3",
   "version": "3.7.4"
  }
 },
 "nbformat": 4,
 "nbformat_minor": 4
}
